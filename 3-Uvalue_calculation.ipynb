{
 "cells": [
  {
   "cell_type": "code",
   "execution_count": 1,
   "metadata": {},
   "outputs": [],
   "source": [
    "import matplotlib.pyplot as plt\n",
    "from seaborn import heatmap\n",
    "from seaborn import pairplot\n",
    "from besos import eppy_funcs as ef\n",
    "from besos import sampling\n",
    "from besos.evaluator import EvaluatorEP\n",
    "from besos.parameters import RangeParameter, FieldSelector, FilterSelector, Parameter, expand_plist, wwr, CategoryParameter, GenericSelector\n",
    "from besos.problem import EPProblem\n",
    "import pandas as pd\n",
    "import numpy as np"
   ]
  },
  {
   "cell_type": "markdown",
   "metadata": {},
   "source": [
    "in our project the u-value for both case of ventilation (on/off) is the same"
   ]
  },
  {
   "cell_type": "code",
   "execution_count": 3,
   "metadata": {
    "scrolled": true
   },
   "outputs": [
    {
     "data": {
      "text/plain": [
       "[\n",
       " Material:NoMass,\n",
       "     LinearBridgingLayer,      !- Name\n",
       "     Rough,                    !- Roughness\n",
       "     0.6267,                   !- Thermal Resistance\n",
       "     0.01,                     !- Thermal Absorptance\n",
       "     0.01,                     !- Solar Absorptance\n",
       "     0.01;                     !- Visible Absorptance,\n",
       " \n",
       " Material:NoMass,\n",
       "     3_RVAL_3,                 !- Name\n",
       "     Rough,                    !- Roughness\n",
       "     0.18,                     !- Thermal Resistance\n",
       "     0.9,                      !- Thermal Absorptance\n",
       "     0.7,                      !- Solar Absorptance\n",
       "     0.7;                      !- Visible Absorptance,\n",
       " \n",
       " Material:NoMass,\n",
       "     4_RVAL_2,                 !- Name\n",
       "     Rough,                    !- Roughness\n",
       "     0.18,                     !- Thermal Resistance\n",
       "     0.9,                      !- Thermal Absorptance\n",
       "     0.7,                      !- Solar Absorptance\n",
       "     0.7;                      !- Visible Absorptance,\n",
       " \n",
       " Material:NoMass,\n",
       "     5_RVAL_2,                 !- Name\n",
       "     Rough,                    !- Roughness\n",
       "     0.15,                     !- Thermal Resistance\n",
       "     0.9,                      !- Thermal Absorptance\n",
       "     0.7,                      !- Solar Absorptance\n",
       "     0.7;                      !- Visible Absorptance,\n",
       " \n",
       " Material:NoMass,\n",
       "     6_RVAL_2,                 !- Name\n",
       "     Rough,                    !- Roughness\n",
       "     0.15,                     !- Thermal Resistance\n",
       "     0.9,                      !- Thermal Absorptance\n",
       "     0.7,                      !- Solar Absorptance\n",
       "     0.7;                      !- Visible Absorptance]"
      ]
     },
     "execution_count": 3,
     "metadata": {},
     "output_type": "execute_result"
    }
   ],
   "source": [
    "building = ef.get_building('/home/ict4bd_v2/Desktop/project/on_double.idf')\n",
    "Materials = [material for material in building.idfobjects[\"MATERIAL\"]]\n",
    "Materials_NoMass = [materials for materials in building.idfobjects[\"material:NoMass\"]]\n",
    "Materials_NoMass"
   ]
  },
  {
   "cell_type": "code",
   "execution_count": 5,
   "metadata": {},
   "outputs": [],
   "source": [
    "# fixed values\n",
    "ascExt = 0.04\n",
    "ascInt = 0.1\n",
    "horExt = 0.04\n",
    "horInt = 0.13\n",
    "desExt = 0.04\n",
    "desInt = 0.17\n",
    "condutivity_insulation = .034"
   ]
  },
  {
   "cell_type": "markdown",
   "metadata": {},
   "source": [
    "To calculate U-Value"
   ]
  },
  {
   "cell_type": "code",
   "execution_count": 6,
   "metadata": {},
   "outputs": [
    {
     "data": {
      "text/html": [
       "<div>\n",
       "<style scoped>\n",
       "    .dataframe tbody tr th:only-of-type {\n",
       "        vertical-align: middle;\n",
       "    }\n",
       "\n",
       "    .dataframe tbody tr th {\n",
       "        vertical-align: top;\n",
       "    }\n",
       "\n",
       "    .dataframe thead th {\n",
       "        text-align: right;\n",
       "    }\n",
       "</style>\n",
       "<table border=\"1\" class=\"dataframe\">\n",
       "  <thead>\n",
       "    <tr style=\"text-align: right;\">\n",
       "      <th></th>\n",
       "      <th>U-Value</th>\n",
       "      <th>Thickness</th>\n",
       "    </tr>\n",
       "  </thead>\n",
       "  <tbody>\n",
       "    <tr>\n",
       "      <th>0</th>\n",
       "      <td>1.8670</td>\n",
       "      <td>0.001000</td>\n",
       "    </tr>\n",
       "    <tr>\n",
       "      <th>1</th>\n",
       "      <td>0.5966</td>\n",
       "      <td>0.039778</td>\n",
       "    </tr>\n",
       "    <tr>\n",
       "      <th>2</th>\n",
       "      <td>0.3550</td>\n",
       "      <td>0.078556</td>\n",
       "    </tr>\n",
       "    <tr>\n",
       "      <th>3</th>\n",
       "      <td>0.2527</td>\n",
       "      <td>0.117333</td>\n",
       "    </tr>\n",
       "    <tr>\n",
       "      <th>4</th>\n",
       "      <td>0.1962</td>\n",
       "      <td>0.156111</td>\n",
       "    </tr>\n",
       "    <tr>\n",
       "      <th>5</th>\n",
       "      <td>0.1603</td>\n",
       "      <td>0.194889</td>\n",
       "    </tr>\n",
       "    <tr>\n",
       "      <th>6</th>\n",
       "      <td>0.1355</td>\n",
       "      <td>0.233667</td>\n",
       "    </tr>\n",
       "    <tr>\n",
       "      <th>7</th>\n",
       "      <td>0.1174</td>\n",
       "      <td>0.272444</td>\n",
       "    </tr>\n",
       "    <tr>\n",
       "      <th>8</th>\n",
       "      <td>0.1035</td>\n",
       "      <td>0.311222</td>\n",
       "    </tr>\n",
       "    <tr>\n",
       "      <th>9</th>\n",
       "      <td>0.0926</td>\n",
       "      <td>0.350000</td>\n",
       "    </tr>\n",
       "  </tbody>\n",
       "</table>\n",
       "</div>"
      ],
      "text/plain": [
       "   U-Value  Thickness\n",
       "0   1.8670   0.001000\n",
       "1   0.5966   0.039778\n",
       "2   0.3550   0.078556\n",
       "3   0.2527   0.117333\n",
       "4   0.1962   0.156111\n",
       "5   0.1603   0.194889\n",
       "6   0.1355   0.233667\n",
       "7   0.1174   0.272444\n",
       "8   0.1035   0.311222\n",
       "9   0.0926   0.350000"
      ]
     },
     "execution_count": 6,
     "metadata": {},
     "output_type": "execute_result"
    }
   ],
   "source": [
    "uValue_Wall_temp = []\n",
    "for tick in np.linspace(0.001,0.35,10):    \n",
    "    layer_wall = [6,7,8]    \n",
    "    resistance = 0\n",
    "    for i in layer_wall:    \n",
    "        thickness_ = Materials[i].Thickness\n",
    "        conductivity_ = Materials[i].Conductivity\n",
    "        resistance += (thickness_/conductivity_)\n",
    "    resistance += (tick/condutivity_insulation)\n",
    "    U_val = (round(1/(horExt+horInt+resistance),4))\n",
    "    uValue_Wall_temp.append({'U-Value': U_val,\n",
    "                             'Thickness': tick})\n",
    "uValue_Wall = pd.DataFrame.from_dict(uValue_Wall_temp)\n",
    "uValue_Wall"
   ]
  },
  {
   "cell_type": "code",
   "execution_count": 7,
   "metadata": {},
   "outputs": [
    {
     "data": {
      "text/html": [
       "<div>\n",
       "<style scoped>\n",
       "    .dataframe tbody tr th:only-of-type {\n",
       "        vertical-align: middle;\n",
       "    }\n",
       "\n",
       "    .dataframe tbody tr th {\n",
       "        vertical-align: top;\n",
       "    }\n",
       "\n",
       "    .dataframe thead th {\n",
       "        text-align: right;\n",
       "    }\n",
       "</style>\n",
       "<table border=\"1\" class=\"dataframe\">\n",
       "  <thead>\n",
       "    <tr style=\"text-align: right;\">\n",
       "      <th></th>\n",
       "      <th>U-Value</th>\n",
       "      <th>Thickness</th>\n",
       "    </tr>\n",
       "  </thead>\n",
       "  <tbody>\n",
       "    <tr>\n",
       "      <th>0</th>\n",
       "      <td>1.1598</td>\n",
       "      <td>0.001000</td>\n",
       "    </tr>\n",
       "    <tr>\n",
       "      <th>1</th>\n",
       "      <td>0.4993</td>\n",
       "      <td>0.039778</td>\n",
       "    </tr>\n",
       "    <tr>\n",
       "      <th>2</th>\n",
       "      <td>0.3181</td>\n",
       "      <td>0.078556</td>\n",
       "    </tr>\n",
       "    <tr>\n",
       "      <th>3</th>\n",
       "      <td>0.2334</td>\n",
       "      <td>0.117333</td>\n",
       "    </tr>\n",
       "    <tr>\n",
       "      <th>4</th>\n",
       "      <td>0.1844</td>\n",
       "      <td>0.156111</td>\n",
       "    </tr>\n",
       "    <tr>\n",
       "      <th>5</th>\n",
       "      <td>0.1523</td>\n",
       "      <td>0.194889</td>\n",
       "    </tr>\n",
       "    <tr>\n",
       "      <th>6</th>\n",
       "      <td>0.1298</td>\n",
       "      <td>0.233667</td>\n",
       "    </tr>\n",
       "    <tr>\n",
       "      <th>7</th>\n",
       "      <td>0.1130</td>\n",
       "      <td>0.272444</td>\n",
       "    </tr>\n",
       "    <tr>\n",
       "      <th>8</th>\n",
       "      <td>0.1001</td>\n",
       "      <td>0.311222</td>\n",
       "    </tr>\n",
       "    <tr>\n",
       "      <th>9</th>\n",
       "      <td>0.0899</td>\n",
       "      <td>0.350000</td>\n",
       "    </tr>\n",
       "  </tbody>\n",
       "</table>\n",
       "</div>"
      ],
      "text/plain": [
       "   U-Value  Thickness\n",
       "0   1.1598   0.001000\n",
       "1   0.4993   0.039778\n",
       "2   0.3181   0.078556\n",
       "3   0.2334   0.117333\n",
       "4   0.1844   0.156111\n",
       "5   0.1523   0.194889\n",
       "6   0.1298   0.233667\n",
       "7   0.1130   0.272444\n",
       "8   0.1001   0.311222\n",
       "9   0.0899   0.350000"
      ]
     },
     "execution_count": 7,
     "metadata": {},
     "output_type": "execute_result"
    }
   ],
   "source": [
    "uValue_roof_temp = []\n",
    "for tick in np.linspace(0.001,0.35,10):    \n",
    "    layer_roof = [1,3]    \n",
    "    resistance = 0\n",
    "    for i in layer_roof:    \n",
    "        thickness_ = Materials[i].Thickness\n",
    "        conductivity_ = Materials[i].Conductivity\n",
    "        resistance += (thickness_/conductivity_)\n",
    "    resistance += (tick/condutivity_insulation)\n",
    "    resistance += Materials_NoMass[1].Thermal_Resistance\n",
    "    U_val = (round(1/(ascExt+ascInt+desInt+desExt+resistance),4))\n",
    "    uValue_roof_temp.append({'U-Value': U_val,\n",
    "                             'Thickness': tick})\n",
    "uValue_roof = pd.DataFrame.from_dict(uValue_roof_temp)\n",
    "uValue_roof"
   ]
  },
  {
   "cell_type": "code",
   "execution_count": 8,
   "metadata": {},
   "outputs": [
    {
     "data": {
      "image/png": "[encoded data removed]",
      "text/plain": [
       "<Figure size 432x288 with 1 Axes>"
      ]
     },
     "metadata": {
      "needs_background": "light"
     },
     "output_type": "display_data"
    }
   ],
   "source": [
    "fig = plt.figure()\n",
    "plt.plot(uValue_roof['U-Value'],uValue_roof['Thickness'],label='Roof')\n",
    "plt.plot(uValue_Wall['U-Value'],uValue_Wall['Thickness'],label='Wall')\n",
    "\n",
    "plt.xlabel('U-Value')\n",
    "plt.ylabel('Thickness')\n",
    "plt.title('U-Value vs Thickness')\n",
    "plt.legend()\n",
    "plt.show()"
   ]
  },
  {
   "cell_type": "code",
   "execution_count": null,
   "metadata": {},
   "outputs": [],
   "source": []
  }
 ],
 "metadata": {
  "kernelspec": {
   "display_name": "Python 3",
   "language": "python",
   "name": "python3"
  },
  "language_info": {
   "codemirror_mode": {
    "name": "ipython",
    "version": 3
   },
   "file_extension": ".py",
   "mimetype": "text/x-python",
   "name": "python",
   "nbconvert_exporter": "python",
   "pygments_lexer": "ipython3",
   "version": "3.8.5"
  }
 },
 "nbformat": 4,
 "nbformat_minor": 2
}
